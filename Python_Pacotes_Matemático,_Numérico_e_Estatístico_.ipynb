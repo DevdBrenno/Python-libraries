{
  "nbformat": 4,
  "nbformat_minor": 0,
  "metadata": {
    "colab": {
      "provenance": [],
      "authorship_tag": "ABX9TyOhzLgntD3zXBG+4zI0pA9C",
      "include_colab_link": true
    },
    "kernelspec": {
      "name": "python3",
      "display_name": "Python 3"
    },
    "language_info": {
      "name": "python"
    }
  },
  "cells": [
    {
      "cell_type": "markdown",
      "metadata": {
        "id": "view-in-github",
        "colab_type": "text"
      },
      "source": [
        "<a href=\"https://colab.research.google.com/github/DevdBrenno/Python-libraries/blob/main/Python_Pacotes_Matem%C3%A1tico%2C_Num%C3%A9rico_e_Estat%C3%ADstico_.ipynb\" target=\"_parent\"><img src=\"https://colab.research.google.com/assets/colab-badge.svg\" alt=\"Open In Colab\"/></a>"
      ]
    },
    {
      "cell_type": "markdown",
      "source": [
        "# Biblioteca - Math\n",
        "A biblioteca math contém muitas funções matemáticas que podem ser utilizadas para realizar operações relativamentes complexas."
      ],
      "metadata": {
        "id": "m9jG44-nS-R9"
      }
    },
    {
      "cell_type": "code",
      "source": [
        "# Bibliote Math\n",
        "import math\n",
        "\n",
        "# min(objeto) - Valor mínimo que um objeto contém\n",
        "Tupla = (10, 8, 6, 4)\n",
        "print('Mínimo:', min(Tupla))\n",
        "# max(objeto) - Valor máximo que um objeto contém\n",
        "print('Máximo:', max(Tupla))\n",
        "\n",
        "# abs(valor) - Converte um valor\n",
        "print(abs(-100))\n",
        "\n",
        "# pow(base, expoênte) - Calcula a potência de determinado valor\n",
        "print('Potência:', pow(2, 4))\n",
        "print('Apenas com operadores:', 2**4)\n",
        "\n",
        "# math.sqrt(valor) - Calcula a raiz quadrada\n",
        "raiz = int(input('Informe um valor para o calculo da raiz:'))\n",
        "print('Raiz quadrada:', int(math.sqrt(raiz)))# Obs.: O cast está sendo usado para converter o resultado em um inteiro\n",
        "print('Calculando a raiz com operadores:', int(raiz**(1/2)))\n",
        "\n",
        "# math.ceil(valor) - Arrendonda um valor para cima\n",
        "print('Arredondamento para cima:', math.ceil(1.2))\n",
        "# math.ceil(valor) - Arrendonda um valor para baixo\n",
        "print('Arredondamento para baixo:', math.floor(1.2))\n",
        "\n",
        "# math.pi() - Imprime o valor de PI\n",
        "print('Pi = ', math.pi)\n",
        "\n",
        "# Obs.: Lembrar de consultar a documentação para o uso de outra funções"
      ],
      "metadata": {
        "id": "IJprEcB_Th_f",
        "colab": {
          "base_uri": "https://localhost:8080/"
        },
        "outputId": "36a02fe7-ea9c-4386-bb63-1b8573185a17"
      },
      "execution_count": null,
      "outputs": [
        {
          "output_type": "stream",
          "name": "stdout",
          "text": [
            "Mínimo: 4\n",
            "Máximo: 10\n",
            "100\n",
            "Potência: 16\n",
            "Apenas com operadores: 16\n",
            "Informe um valor para o calculo da raiz:81\n",
            "Raiz quadrada: 9\n",
            "Calculando a raiz com operadores: 9\n",
            "Arredondamento para cima: 2\n",
            "Arredondamento para baixo: 1\n",
            "Pi =  3.141592653589793\n"
          ]
        }
      ]
    },
    {
      "cell_type": "markdown",
      "source": [
        "# Biblioteca - Random\n",
        "Implementa geradores de números pseudoaleatórios para muitas distribuições.\n",
        "\n",
        "Em números inteiros, há uma seleção uniforme de um intervalo. Para sequências, há uma seleção uniforme de um elemento aleatório, uma função para gerar uma permutação aleatória de uma lista no local e uma função para amostragem aleatória sem substituição."
      ],
      "metadata": {
        "id": "PI3DsyfJXfRw"
      }
    },
    {
      "cell_type": "code",
      "source": [
        "# Biblioteca Random\n",
        "import random\n",
        "\n",
        "# random.choice(objeto) - Escolhe um valor aleatório de um objeto\n",
        "Lista = ['A', 'B', 'C', 'D', 'E']\n",
        "print(random.choice(Lista))\n",
        "\n",
        "# random.random() - Gera um número aleatório entre 0 e 1\n",
        "print('O número entre 0 e 1 foi:', random.random())\n",
        "\n",
        "# random.randint(valorIncial, valorFinal) - Gera um número entre os do parâmetro\n",
        "print('O número gerado foi:', random.randint(1, 10))\n",
        "\n",
        "# Ex.: Sorteio simples de nomes\n",
        "Sorteio = ('Ana', 'Maria', 'Pedro', 'João')\n",
        "random.choice(Sorteio)"
      ],
      "metadata": {
        "id": "cpoDaypgXi1r",
        "colab": {
          "base_uri": "https://localhost:8080/",
          "height": 87
        },
        "outputId": "27389796-415d-4f27-d612-70a4819dcc88"
      },
      "execution_count": null,
      "outputs": [
        {
          "output_type": "stream",
          "name": "stdout",
          "text": [
            "B\n",
            "O número entre 0 e 1 foi: 0.9657504263845292\n",
            "O número gerado foi: 4\n"
          ]
        },
        {
          "output_type": "execute_result",
          "data": {
            "text/plain": [
              "'João'"
            ],
            "application/vnd.google.colaboratory.intrinsic+json": {
              "type": "string"
            }
          },
          "metadata": {},
          "execution_count": 10
        }
      ]
    },
    {
      "cell_type": "markdown",
      "source": [
        "# Biblioteca - Statistics\n",
        "\n",
        " Ela fornece funções para calcular estatísticas matemáticas de dados numéricos reais."
      ],
      "metadata": {
        "id": "XkpXLvdaXjbT"
      }
    },
    {
      "cell_type": "code",
      "source": [
        "# Biblioteca statistcs\n",
        "import statistics\n",
        "\n",
        "# Média com operações básicas\n",
        "Lista = [12, 14, 15, 16, 17]\n",
        "sum(Lista) / len(Lista)\n",
        "\n",
        "# statistics.mean(objeto) - Calcula a média de um objeto\n",
        "print('Média:', statistics.mean(Lista))\n",
        "\n",
        "# statistics.median(objeto) - Calcula a mediana[valor central(Caso seja par, a mediana será a divisão dos dois centrais)] de um objeto\n",
        "print('Mediana:', statistics.median(Lista))\n",
        "\n",
        "# statistics.mode(objeto) - Calcula a moda[valor que mais aparece] de um objeto\n",
        "Algo  = ['A', 'B', 'C', 'D', 'A']\n",
        "print('Moda:', statistics.mode(Algo))\n",
        "\n",
        "# statistics.multimode(objeto) - Retorna uma lista dos valores que possuem com maior frequência na ordem em que foram encontrados\n",
        "lista = ('aabbbbccddddeeffffgghhhhii')\n",
        "print('Maior frequência:', statistics.multimode(lista))\n",
        "\n",
        "# Obs.: Conferir a documentação para atualizações e consultas de outras funções\n",
        "# Recomendação: As bibliotecas NumPy e SciPy também são super úteis"
      ],
      "metadata": {
        "colab": {
          "base_uri": "https://localhost:8080/"
        },
        "id": "eo_oH-VMhUl4",
        "outputId": "6400fabb-ff5e-4b3a-8314-88a6374270e6"
      },
      "execution_count": null,
      "outputs": [
        {
          "output_type": "stream",
          "name": "stdout",
          "text": [
            "Média: 14.8\n",
            "Mediana: 15\n",
            "Moda: A\n",
            "Maior frequência: ['b', 'd', 'f', 'h']\n"
          ]
        }
      ]
    }
  ]
}
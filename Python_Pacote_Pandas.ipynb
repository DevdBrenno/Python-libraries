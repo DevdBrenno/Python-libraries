{
  "nbformat": 4,
  "nbformat_minor": 0,
  "metadata": {
    "colab": {
      "provenance": [],
      "authorship_tag": "ABX9TyPdlpCo5Jy1ZlJWv7414RaR",
      "include_colab_link": true
    },
    "kernelspec": {
      "name": "python3",
      "display_name": "Python 3"
    },
    "language_info": {
      "name": "python"
    }
  },
  "cells": [
    {
      "cell_type": "markdown",
      "metadata": {
        "id": "view-in-github",
        "colab_type": "text"
      },
      "source": [
        "<a href=\"https://colab.research.google.com/github/DevdBrenno/Python-libraries/blob/main/Python_Pacote_Pandas.ipynb\" target=\"_parent\"><img src=\"https://colab.research.google.com/assets/colab-badge.svg\" alt=\"Open In Colab\"/></a>"
      ]
    },
    {
      "cell_type": "markdown",
      "source": [
        "É necessário usar o **pip** para instalção de bibliotecas que não são nativas do python.\n",
        "Sintaxe:\n",
        "pip install NomedaBibliotecas\n",
        "ou\n",
        "!pip install NomedaBibliotecas"
      ],
      "metadata": {
        "id": "M2zB_Pexo3m2"
      }
    },
    {
      "cell_type": "code",
      "execution_count": null,
      "metadata": {
        "colab": {
          "base_uri": "https://localhost:8080/"
        },
        "id": "UXkeglo3oEZV",
        "outputId": "6ba4e199-df01-4e16-c667-676903db1771"
      },
      "outputs": [
        {
          "output_type": "stream",
          "name": "stdout",
          "text": [
            "Requirement already satisfied: pandas in /usr/local/lib/python3.10/dist-packages (1.5.3)\n",
            "Requirement already satisfied: python-dateutil>=2.8.1 in /usr/local/lib/python3.10/dist-packages (from pandas) (2.8.2)\n",
            "Requirement already satisfied: pytz>=2020.1 in /usr/local/lib/python3.10/dist-packages (from pandas) (2023.3)\n",
            "Requirement already satisfied: numpy>=1.21.0 in /usr/local/lib/python3.10/dist-packages (from pandas) (1.23.5)\n",
            "Requirement already satisfied: six>=1.5 in /usr/local/lib/python3.10/dist-packages (from python-dateutil>=2.8.1->pandas) (1.16.0)\n"
          ]
        }
      ],
      "source": [
        "# Instalação das bibliotecas\n",
        "!pip install pandas"
      ]
    },
    {
      "cell_type": "markdown",
      "source": [
        "# Biblioteca: Pandas\n",
        "O pandas é uma biblioteca usada na análise de dados e tratamento de dados.\n",
        "\n",
        "Lembrete: A biblioteca numpy é usada para trabalhar com as arrays.\n",
        "\n",
        "Usamos a função \"**pd.read_TIPODOARQUIVO('Nome-do-Arquivo.extensão')**\" para leitura de arquivos.\n",
        "Para exibí-lo, de devomos atribuir a leitura à uma variável e depois imprimí-la."
      ],
      "metadata": {
        "id": "OjXBZSS3p8cU"
      }
    },
    {
      "cell_type": "code",
      "source": [
        "# Importação da biblioteca pandas e numpy\n",
        "import pandas as pd\n",
        "import numpy as np\n",
        "\n",
        "# Leitura do arquivo que foi upado na seção upload no colab. Creditos: Data Viking\n",
        "arq = pd.read_csv('StudentsPerformance.csv')\n",
        "type(arq)\n",
        "\n",
        "# Impressão do arquivo\n",
        "print('Performace dos estudante:\\n', arq)"
      ],
      "metadata": {
        "id": "1wM8LWuEpnwH"
      },
      "execution_count": null,
      "outputs": []
    },
    {
      "cell_type": "markdown",
      "source": [
        "A função **'.head()'** faz a impressão do cabeçalho ou das 5 primeiras linhas dele.\n",
        "\n",
        "**'.tail()'** Exibe as últimas linhas da tabela ou as 5 últimas.\n",
        "\n",
        "**'.shape'** Informa a quantidade de linhas e colunas.\n",
        "\n",
        "**'.columns'** Imprime uma array com o nome das colunas.\n",
        "\n",
        "**'.duplicated()'**  Verifica se há linhas duplicas, caso haja, retorna true. Podemos usá-la com a função 'sum()' para somar a quantidade de linhas.\n",
        "\n",
        "**'.info()'** Exibe informações sobre as colunas.\n",
        "\n",
        "**'isna()'** Informa se é um tipo númerico não definido \"Not a number."
      ],
      "metadata": {
        "id": "6cMjF_00vfKU"
      }
    },
    {
      "cell_type": "code",
      "source": [
        "# Exibição das linhas do cabeçalho\n",
        "print('Cabeçalho:\\n')\n",
        "arq.head()"
      ],
      "metadata": {
        "id": "QcZBGycpwfAE"
      },
      "execution_count": null,
      "outputs": []
    },
    {
      "cell_type": "code",
      "source": [
        "# Exibição das últimas linhas do arquivo\n",
        "print('Últimas linhas:\\n')\n",
        "arq.tail()"
      ],
      "metadata": {
        "id": "K40ChC53xLTg"
      },
      "execution_count": null,
      "outputs": []
    },
    {
      "cell_type": "code",
      "source": [
        "# Informa a quantidade de linhas e colunas\n",
        "print('Linhas, Colunas:\\n', arq.shape)\n",
        "\n",
        "# Exibe o nome das colunas\n",
        "print('\\nNome das colunas:\\n', arq.columns)\n",
        "\n",
        "# Linhas duplicadas\n",
        "print('\\nQuantidade de linhas duplicadas:', arq.duplicated().sum())\n",
        "\n",
        "# Existência de NaN:\n",
        "print('\\nTipo NaN:\\n',arq.isna().sum())"
      ],
      "metadata": {
        "colab": {
          "base_uri": "https://localhost:8080/"
        },
        "id": "-Z6uk6u3xhXl",
        "outputId": "cc44ccfe-0a79-4a54-a520-1f2e4cf8a93e"
      },
      "execution_count": null,
      "outputs": [
        {
          "output_type": "stream",
          "name": "stdout",
          "text": [
            "Linhas, Colunas:\n",
            " (1000, 8)\n",
            "\n",
            "Nome das colunas:\n",
            " Index(['gender', 'race/ethnicity', 'parental level of education', 'lunch',\n",
            "       'test preparation course', 'math score', 'reading score',\n",
            "       'writing score'],\n",
            "      dtype='object')\n",
            "\n",
            "Quantidade de linhas duplicadas: 0\n",
            "\n",
            "Tipo NaN:\n",
            " gender                         0\n",
            "race/ethnicity                 0\n",
            "parental level of education    0\n",
            "lunch                          0\n",
            "test preparation course        0\n",
            "math score                     0\n",
            "reading score                  0\n",
            "writing score                  0\n",
            "dtype: int64\n"
          ]
        }
      ]
    },
    {
      "cell_type": "markdown",
      "source": [
        "**'.describe()'** Sumário estatístico de dados da tabela.\n",
        "\n",
        "**'.describe(include = 'all')'** Inclui a estatística de várias categórias.\n",
        "\n",
        "**'.nunique()'** Quantidade de valores únicos.\n",
        "\n",
        "'.value_counts()' Conta a frequência de ocorrência entre os valores."
      ],
      "metadata": {
        "id": "V04AGam51uJ0"
      }
    },
    {
      "cell_type": "code",
      "source": [
        "# Sumário com estatísticas\n",
        "arq.describe()"
      ],
      "metadata": {
        "id": "GZFjzMbg12Ki"
      },
      "execution_count": null,
      "outputs": []
    },
    {
      "cell_type": "code",
      "source": [
        "# Valores únicos\n",
        "print('Valores únicos:', arq['race/ethnicity'].unique())\n",
        "\n",
        "# Frequência de ocorrências de dados\n",
        "print('Frequência de ocorrências:\\n', arq.gender.value_counts())"
      ],
      "metadata": {
        "id": "hymYjwh23XIG"
      },
      "execution_count": null,
      "outputs": []
    }
  ]
}